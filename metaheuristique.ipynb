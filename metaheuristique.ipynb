{
 "cells": [
  {
   "cell_type": "markdown",
   "metadata": {},
   "source": [
    "### Par: HOUSNI Kamar\n",
    "\n",
    "## Projet : Metaheuristic"
   ]
  },
  {
   "cell_type": "markdown",
   "metadata": {},
   "source": [
    "### Constructive heuristic- Finite Best Strip"
   ]
  },
  {
   "cell_type": "markdown",
   "metadata": {},
   "source": [
    "* We will start by reading our data;\n",
    "    * we extract the bin and item dimensions in order to perform our heuristic algorithm on the data."
   ]
  },
  {
   "cell_type": "code",
   "execution_count": 1,
   "metadata": {},
   "outputs": [],
   "source": [
    "def read_dataset(filename):\n",
    "    with open(filename, 'r') as file:\n",
    "        lines = file.readlines()\n",
    "    # first we extract the bin dimensions\n",
    "    width_bins = int(lines[1].split(':')[1].strip())\n",
    "    height_bins = int(lines[2].split(':')[1].strip())\n",
    "    \n",
    "    # then we extract the item dimensions\n",
    "    items = []\n",
    "    for line in line[4:]:\n",
    "        if line.strip() == '':\n",
    "            continue\n",
    "        item_width = int(line.split(':')[1].strip())\n",
    "        item_height = int(line.split(':')[2].strip())\n",
    "        items.append((item_width, item_height))\n",
    "        \n",
    "        return width_bins, height_bins, items"
   ]
  },
  {
   "cell_type": "code",
   "execution_count": 2,
   "metadata": {},
   "outputs": [],
   "source": [
    "def fbs_heuristic(bin_width, bin_height, items):\n",
    "    # Sort items by non-increasing height\n",
    "    items.sort(key=lambda x: x[1], reverse=True)\n",
    "\n",
    "    # Phase 1: Pack items into an infinite height strip\n",
    "    strip_width = bin_width\n",
    "    shelves = []\n",
    "    for item in items:\n",
    "        shelf_height = item[1]\n",
    "        # Find the best fit shelf for the item\n",
    "        best_shelf = None\n",
    "        best_residual_width = float('inf')\n",
    "        for shelf in shelves:\n",
    "            if shelf[0] >= item[0] and shelf[1] < best_residual_width:\n",
    "                best_shelf = shelf\n",
    "                best_residual_width = shelf[1]\n",
    "        if best_shelf is None:\n",
    "            # Create a new shelf for the item\n",
    "            shelves.append((item[0], strip_width - item[0]))\n",
    "        else:\n",
    "            # Pack the item onto the best fit shelf\n",
    "            shelves.remove(best_shelf)\n",
    "            shelves.append((best_shelf[0], best_shelf[1] - item[0]))\n",
    "\n",
    "    # Phase 2: Pack shelves into finite bins\n",
    "    bins = []\n",
    "    for shelf in shelves:\n",
    "        # Find the best fit bin for the shelf\n",
    "        best_bin = None\n",
    "        best_residual_height = float('inf')\n",
    "        for bin in bins:\n",
    "            if bin[1] >= shelf[0] and bin[0] < best_residual_height:\n",
    "                best_bin = bin\n",
    "                best_residual_height = bin[0]\n",
    "        if best_bin is None:\n",
    "            # Create a new bin for the shelf\n",
    "            bins.append((bin_height - shelf[0], strip_width))\n",
    "        else:\n",
    "            # Pack the shelf into the best fit bin\n",
    "            bins.remove(best_bin)\n",
    "            bins.append((best_bin[0] - shelf[0], best_bin[1]))\n",
    "\n",
    "    return len(bins)"
   ]
  },
  {
   "cell_type": "code",
   "execution_count": null,
   "metadata": {},
   "outputs": [],
   "source": []
  }
 ],
 "metadata": {
  "kernelspec": {
   "display_name": "Python 3",
   "language": "python",
   "name": "python3"
  },
  "language_info": {
   "codemirror_mode": {
    "name": "ipython",
    "version": 3
   },
   "file_extension": ".py",
   "mimetype": "text/x-python",
   "name": "python",
   "nbconvert_exporter": "python",
   "pygments_lexer": "ipython3",
   "version": "3.11.3"
  }
 },
 "nbformat": 4,
 "nbformat_minor": 2
}
