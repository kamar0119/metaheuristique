{
 "cells": [
  {
   "cell_type": "markdown",
   "metadata": {},
   "source": [
    "### Par: HOUSNI Kamar\n",
    "\n",
    "## Projet : Metaheuristic"
   ]
  },
  {
   "cell_type": "markdown",
   "metadata": {},
   "source": [
    "### Constructive heuristic- Finite Best Strip"
   ]
  },
  {
   "cell_type": "markdown",
   "metadata": {},
   "source": [
    "* We will start by reading our data;\n",
    "    * we extract the bin and item dimensions in order to perform our heuristic algorithm on the data."
   ]
  },
  {
   "cell_type": "code",
   "execution_count": 13,
   "metadata": {},
   "outputs": [],
   "source": [
    "import matplotlib.pyplot as plt"
   ]
  },
  {
   "cell_type": "code",
   "execution_count": 9,
   "metadata": {},
   "outputs": [],
   "source": [
    "def read_dataset(filename):\n",
    "    with open(filename, 'r') as file:\n",
    "        lines = file.readlines()\n",
    "\n",
    "    # Extract bin dimensions\n",
    "    bin_width = None\n",
    "    bin_height = None\n",
    "    items = []\n",
    "    for line in lines:\n",
    "        if line.startswith('W:'):\n",
    "            bin_width = int(line.split(':')[1].strip())\n",
    "        elif line.startswith('H:'):\n",
    "            bin_height = int(line.split(':')[1].strip())\n",
    "        elif line.startswith('w:'):\n",
    "            item_width = int(line.split(':')[1].strip())\n",
    "            item_height = int(lines[lines.index(line) + 1].split(':')[1].strip())\n",
    "            items.append((item_width, item_height))\n",
    "\n",
    "    return bin_width, bin_height, items"
   ]
  },
  {
   "cell_type": "code",
   "execution_count": 10,
   "metadata": {},
   "outputs": [],
   "source": [
    "def fbs_heuristic(bin_width, bin_height, items):\n",
    "    # Sort items by non-increasing height\n",
    "    items.sort(key=lambda x: x[1], reverse=True)\n",
    "\n",
    "    # Phase 1: Pack items into an infinite height strip\n",
    "    strip_width = bin_width\n",
    "    shelves = []\n",
    "    for item in items:\n",
    "        shelf_height = item[1]\n",
    "        # Find the best fit shelf for the item\n",
    "        best_shelf = None\n",
    "        best_residual_width = float('inf')\n",
    "        for shelf in shelves:\n",
    "            if shelf[0] >= item[0] and shelf[1] < best_residual_width:\n",
    "                best_shelf = shelf\n",
    "                best_residual_width = shelf[1]\n",
    "        if best_shelf is None:\n",
    "            # Create a new shelf for the item\n",
    "            shelves.append((item[0], strip_width - item[0]))\n",
    "        else:\n",
    "            # Pack the item onto the best fit shelf\n",
    "            shelves.remove(best_shelf)\n",
    "            shelves.append((best_shelf[0], best_shelf[1] - item[0]))\n",
    "\n",
    "    # Phase 2: Pack shelves into finite bins\n",
    "    bins = []\n",
    "    for shelf in shelves:\n",
    "        # Find the best fit bin for the shelf\n",
    "        best_bin = None\n",
    "        best_residual_height = float('inf')\n",
    "        for bin in bins:\n",
    "            if bin[1] >= shelf[0] and bin[0] < best_residual_height:\n",
    "                best_bin = bin\n",
    "                best_residual_height = bin[0]\n",
    "        if best_bin is None:\n",
    "            # Create a new bin for the shelf\n",
    "            bins.append((bin_height - shelf[0], strip_width))\n",
    "        else:\n",
    "            # Pack the shelf into the best fit bin\n",
    "            bins.remove(best_bin)\n",
    "            bins.append((best_bin[0] - shelf[0], best_bin[1]))\n",
    "\n",
    "    return len(bins)"
   ]
  },
  {
   "cell_type": "code",
   "execution_count": 12,
   "metadata": {},
   "outputs": [
    {
     "name": "stdout",
     "output_type": "stream",
     "text": [
      "Bin dimensions: 10 x 10\n",
      "Item dimensions:\n",
      "5 x 9\n",
      "4 x 2\n",
      "10 x 6\n",
      "5 x 9\n",
      "6 x 3\n",
      "10 x 6\n",
      "1 x 5\n",
      "3 x 5\n",
      "6 x 3\n",
      "2 x 4\n",
      "6 x 3\n",
      "7 x 2\n",
      "8 x 3\n",
      "4 x 2\n",
      "4 x 2\n",
      "10 x 6\n",
      "7 x 2\n",
      "8 x 3\n",
      "Number of bins used: 1\n"
     ]
    }
   ],
   "source": [
    "bin_width, bin_height, items = read_dataset('instance2dBIN.txt')\n",
    "print(f\"Bin dimensions: {bin_width} x {bin_height}\")\n",
    "print(\"Item dimensions:\")\n",
    "for item in items:\n",
    "    print(f\"{item[0]} x {item[1]}\")\n",
    "\n",
    "num_bins = fbs_heuristic(bin_width, bin_height, items)\n",
    "print(f\"Number of bins used: {num_bins}\")"
   ]
  },
  {
   "cell_type": "code",
   "execution_count": 14,
   "metadata": {},
   "outputs": [],
   "source": [
    "def visualize_packing(bin_width, bin_height, items, bins):\n",
    "    fig, ax = plt.subplots()\n",
    "\n",
    "    # Plot the bins\n",
    "    ax.set_xlim(0, bin_width)\n",
    "    ax.set_ylim(0, bin_height)\n",
    "    ax.set_aspect('equal')\n",
    "    ax.set_title('Bin Packing')\n",
    "    for bin in bins:\n",
    "        ax.add_patch(plt.Rectangle((0, 0), bin_width, bin[0], fill=False, edgecolor='blue'))\n",
    "\n",
    "    # Plot the packed items\n",
    "    for bin in bins:\n",
    "        x = []\n",
    "        y = []\n",
    "        for item in items:\n",
    "            if item in bin[1]:\n",
    "                x.append(item[0])\n",
    "                y.append(item[1])\n",
    "        ax.scatter(x, y, color='red')\n",
    "\n",
    "    plt.show()"
   ]
  },
  {
   "cell_type": "code",
   "execution_count": 15,
   "metadata": {},
   "outputs": [
    {
     "data": {
      "image/png": "[encoded data removed]",
      "text/plain": [
       "<Figure size 640x480 with 1 Axes>"
      ]
     },
     "metadata": {},
     "output_type": "display_data"
    }
   ],
   "source": [
    "bin_width, bin_height, items = read_dataset('instance2dBIN.txt')\n",
    "num_bins = fbs_heuristic(bin_width, bin_height, items)\n",
    "bins = [(bin_height, items[i:i+num_bins]) for i in range(0, len(items), num_bins)]\n",
    "visualize_packing(bin_width, bin_height, items, bins)"
   ]
  },
  {
   "cell_type": "markdown",
   "metadata": {},
   "source": [
    "the visualize_packing function creates a visualization of the packing solution. It plots the bins as blue rectangles and the packed items as red dots. The read_dataset and fbs_heuristic functions are used to obtain the bin dimensions, items, and the number of bins used."
   ]
  },
  {
   "cell_type": "code",
   "execution_count": 1,
   "metadata": {},
   "outputs": [],
   "source": [
    "#recherche locale \n"
   ]
  },
  {
   "cell_type": "code",
   "execution_count": null,
   "metadata": {},
   "outputs": [],
   "source": [
    "def local_search(initial_solution, items, alpha):\n",
    "    current_solution = initial_solution.copy()\n",
    "    num_bins = len(current_solution)\n",
    "    improved = True\n",
    "\n",
    "    while improved:\n",
    "        improved = False\n",
    "        weakest_bin = find_weakest_bin(current_solution, items, alpha)\n",
    "\n",
    "        for bin_idx in range(num_bins):\n",
    "            if bin_idx == weakest_bin:\n",
    "                continue\n",
    "\n",
    "            for item in current_solution[weakest_bin]:\n",
    "                if can_move_item(item, current_solution[weakest_bin], current_solution[bin_idx]):\n",
    "                    current_solution[weakest_bin].remove(item)\n",
    "                    current_solution[bin_idx].append(item)\n",
    "                    improved = True\n",
    "                    break\n",
    "\n",
    "            if improved:\n",
    "                break\n",
    "\n",
    "    return current_solution\n",
    "\n",
    "\n",
    "def find_weakest_bin(solution, items, alpha):\n",
    "    weakest_bin = None\n",
    "    min_difficulty = float('inf')\n",
    "\n",
    "    for bin_idx, bin_items in enumerate(solution):\n",
    "        difficulty = calculate_bin_difficulty(bin_items, items, alpha)\n",
    "\n",
    "        if difficulty < min_difficulty:\n",
    "            min_difficulty = difficulty\n",
    "            weakest_bin = bin_idx\n",
    "\n",
    "    return weakest_bin\n",
    "\n",
    "\n",
    "def calculate_bin_difficulty(bin_items, items, alpha):\n",
    "    total_area = sum(item['h'] * item['w'] for item in bin_items)\n",
    "    bin_height = max(item['h'] for item in bin_items)\n",
    "    bin_width = sum(item['w'] for item in bin_items)\n",
    "    bin_difficulty = (alpha * total_area) / (bin_height * bin_width) - len(bin_items) / len(items)\n",
    "\n",
    "    return bin_difficulty\n",
    "\n",
    "\n",
    "def can_move_item(item, source_bin, target_bin):\n",
    "    return (item['h'] <= target_bin['H'] and item['w'] <= target_bin['W']) or \\\n",
    "           (item['h'] <= target_bin['W'] and item['w'] <= target_bin['H'])"
   ]
  }
 ],
 "metadata": {
  "kernelspec": {
   "display_name": "Python 3",
   "language": "python",
   "name": "python3"
  },
  "language_info": {
   "codemirror_mode": {
    "name": "ipython",
    "version": 3
   },
   "file_extension": ".py",
   "mimetype": "text/x-python",
   "name": "python",
   "nbconvert_exporter": "python",
   "pygments_lexer": "ipython3",
   "version": "3.11.3"
  }
 },
 "nbformat": 4,
 "nbformat_minor": 2
}
