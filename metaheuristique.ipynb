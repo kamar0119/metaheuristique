{
 "cells": [
  {
   "cell_type": "markdown",
   "metadata": {},
   "source": [
    "### Par: HOUSNI Kamar\n",
    "\n",
    "## Projet : Metaheuristic"
   ]
  },
  {
   "cell_type": "markdown",
   "metadata": {},
   "source": [
    "### Constructive heuristic- Finite Best Strip"
   ]
  },
  {
   "cell_type": "markdown",
   "metadata": {},
   "source": [
    "* We will start by reading our data;\n",
    "    * we extract the bin and item dimensions in order to perform our heuristic algorithm on the data."
   ]
  },
  {
   "cell_type": "code",
   "execution_count": 14,
   "metadata": {},
   "outputs": [],
   "source": [
    "import matplotlib.pyplot as plt\n",
    "import random\n",
    "import time"
   ]
  },
  {
   "cell_type": "code",
   "execution_count": 2,
   "metadata": {},
   "outputs": [],
   "source": [
    "def read_dataset(filename):\n",
    "    with open(filename, 'r') as file:\n",
    "        lines = file.readlines()\n",
    "\n",
    "    # Extract bin dimensions\n",
    "    bin_width = None\n",
    "    bin_height = None\n",
    "    items = []\n",
    "    for line in lines:\n",
    "        if line.startswith('W:'):\n",
    "            bin_width = int(line.split(':')[1].strip())\n",
    "        elif line.startswith('H:'):\n",
    "            bin_height = int(line.split(':')[1].strip())\n",
    "        elif line.startswith('w:'):\n",
    "            item_width = int(line.split(':')[1].strip())\n",
    "            item_height = int(lines[lines.index(line) + 1].split(':')[1].strip())\n",
    "            items.append((item_width, item_height))\n",
    "\n",
    "    return bin_width, bin_height, items"
   ]
  },
  {
   "cell_type": "code",
   "execution_count": 19,
   "metadata": {},
   "outputs": [],
   "source": [
    "def fbs_heuristic(bin_width, bin_height, items):\n",
    "    items.sort(key=lambda x: x[1], reverse=True)\n",
    "    strip_width = bin_width\n",
    "    shelves = []\n",
    "    for item in items:\n",
    "        shelf_height = item[1]\n",
    "        best_shelf = None\n",
    "        best_residual_width = float('inf')\n",
    "        for shelf in shelves:\n",
    "            if shelf[0] >= item[0] and shelf[1] < best_residual_width:\n",
    "                best_shelf = shelf\n",
    "                best_residual_width = shelf[1]\n",
    "        if best_shelf is None:\n",
    "            shelves.append((item[0], strip_width - item[0]))\n",
    "        else:\n",
    "            shelves.remove(best_shelf)\n",
    "            shelves.append((best_shelf[0], best_shelf[1] - item[0]))\n",
    "\n",
    "    bins = []\n",
    "    for shelf in shelves:\n",
    "        best_bin = None\n",
    "        best_residual_height = float('inf')\n",
    "        for bin in bins:\n",
    "            if bin[1] >= shelf[0] and bin[0] < best_residual_height:\n",
    "                best_bin = bin\n",
    "                best_residual_height = bin[0]\n",
    "        if best_bin is None:\n",
    "            bins.append((bin_height - shelf[0], strip_width))\n",
    "        else:\n",
    "            bins.remove(best_bin)\n",
    "            bins.append((best_bin[0] - shelf[0], best_bin[1]))\n",
    "\n",
    "    return len(bins), bins"
   ]
  },
  {
   "cell_type": "code",
   "execution_count": 20,
   "metadata": {},
   "outputs": [
    {
     "name": "stdout",
     "output_type": "stream",
     "text": [
      "Bin dimensions: 10 x 10\n",
      "Item dimensions:\n",
      "5 x 9\n",
      "4 x 2\n",
      "10 x 6\n",
      "5 x 9\n",
      "6 x 3\n",
      "10 x 6\n",
      "1 x 5\n",
      "3 x 5\n",
      "6 x 3\n",
      "2 x 4\n",
      "6 x 3\n",
      "7 x 2\n",
      "8 x 3\n",
      "4 x 2\n",
      "4 x 2\n",
      "10 x 6\n",
      "7 x 2\n",
      "8 x 3\n",
      "Number of bins used: (1, [(-5, 10)])\n"
     ]
    }
   ],
   "source": [
    "bin_width, bin_height, items = read_dataset('instance2dBIN.txt')\n",
    "print(f\"Bin dimensions: {bin_width} x {bin_height}\")\n",
    "print(\"Item dimensions:\")\n",
    "for item in items:\n",
    "    print(f\"{item[0]} x {item[1]}\")\n",
    "\n",
    "num_bins = fbs_heuristic(bin_width, bin_height, items)\n",
    "print(f\"Number of bins used: {num_bins}\")"
   ]
  },
  {
   "cell_type": "code",
   "execution_count": 21,
   "metadata": {},
   "outputs": [],
   "source": [
    "def visualize_packing(bin_width, bin_height, items, bins):\n",
    "    fig, ax = plt.subplots()\n",
    "\n",
    "    # Plot the bins\n",
    "    ax.set_xlim(0, bin_width)\n",
    "    ax.set_ylim(0, bin_height)\n",
    "    ax.set_aspect('equal')\n",
    "    ax.set_title('Bin Packing')\n",
    "    for bin in bins:\n",
    "        ax.add_patch(plt.Rectangle((0, 0), bin_width, bin[0], fill=False, edgecolor='blue'))\n",
    "\n",
    "    # Plot the packed items\n",
    "    for bin in bins:\n",
    "        x = []\n",
    "        y = []\n",
    "        for item in items:\n",
    "            if item in bin[1]:\n",
    "                x.append(item[0])\n",
    "                y.append(item[1])\n",
    "        ax.scatter(x, y, color='red')\n",
    "\n",
    "    plt.show()"
   ]
  },
  {
   "cell_type": "code",
   "execution_count": 22,
   "metadata": {},
   "outputs": [
    {
     "ename": "TypeError",
     "evalue": "'tuple' object cannot be interpreted as an integer",
     "output_type": "error",
     "traceback": [
      "\u001b[0;31m---------------------------------------------------------------------------\u001b[0m",
      "\u001b[0;31mTypeError\u001b[0m                                 Traceback (most recent call last)",
      "Cell \u001b[0;32mIn[22], line 3\u001b[0m\n\u001b[1;32m      1\u001b[0m bin_width, bin_height, items \u001b[38;5;241m=\u001b[39m read_dataset(\u001b[38;5;124m'\u001b[39m\u001b[38;5;124minstance2dBIN.txt\u001b[39m\u001b[38;5;124m'\u001b[39m)\n\u001b[1;32m      2\u001b[0m num_bins \u001b[38;5;241m=\u001b[39m fbs_heuristic(bin_width, bin_height, items)\n\u001b[0;32m----> 3\u001b[0m bins \u001b[38;5;241m=\u001b[39m [(bin_height, items[i:i\u001b[38;5;241m+\u001b[39mnum_bins]) \u001b[38;5;28;01mfor\u001b[39;00m i \u001b[38;5;129;01min\u001b[39;00m \u001b[38;5;28;43mrange\u001b[39;49m\u001b[43m(\u001b[49m\u001b[38;5;241;43m0\u001b[39;49m\u001b[43m,\u001b[49m\u001b[43m \u001b[49m\u001b[38;5;28;43mlen\u001b[39;49m\u001b[43m(\u001b[49m\u001b[43mitems\u001b[49m\u001b[43m)\u001b[49m\u001b[43m,\u001b[49m\u001b[43m \u001b[49m\u001b[43mnum_bins\u001b[49m\u001b[43m)\u001b[49m]\n\u001b[1;32m      4\u001b[0m visualize_packing(bin_width, bin_height, items, bins)\n",
      "\u001b[0;31mTypeError\u001b[0m: 'tuple' object cannot be interpreted as an integer"
     ]
    }
   ],
   "source": [
    "bin_width, bin_height, items = read_dataset('instance2dBIN.txt')\n",
    "num_bins = fbs_heuristic(bin_width, bin_height, items)\n",
    "bins = [(bin_height, items[i:i+num_bins]) for i in range(0, len(items), num_bins)]\n",
    "visualize_packing(bin_width, bin_height, items, bins)"
   ]
  },
  {
   "cell_type": "markdown",
   "metadata": {},
   "source": [
    "the visualize_packing function creates a visualization of the packing solution. It plots the bins as blue rectangles and the packed items as red dots. The read_dataset and fbs_heuristic functions are used to obtain the bin dimensions, items, and the number of bins used."
   ]
  },
  {
   "cell_type": "markdown",
   "metadata": {},
   "source": [
    "### Recherche locale "
   ]
  },
  {
   "cell_type": "code",
   "execution_count": 23,
   "metadata": {},
   "outputs": [],
   "source": [
    "def local_search(bin_width, bin_height, items, max_iterations=1000):\n",
    "    # Initialize the solution with a random placement of items\n",
    "    solution = [(random.randint(0, bin_width - 1), random.randint(0, bin_height - 1)) for _ in range(len(items))]\n",
    "\n",
    "    # Evaluate the initial solution\n",
    "    fitness = evaluate_solution(bin_width, bin_height, items, solution)\n",
    "\n",
    "    # Perform local search\n",
    "    for _ in range(max_iterations):\n",
    "        # Generate a neighbor solution by moving one item to a new location\n",
    "        neighbor_solution = generate_neighbor(solution, bin_width, bin_height)\n",
    "\n",
    "        # Evaluate the neighbor solution\n",
    "        neighbor_fitness = evaluate_solution(bin_width, bin_height, items, neighbor_solution)\n",
    "\n",
    "        # If the neighbor solution is better, accept it\n",
    "        if neighbor_fitness < fitness:\n",
    "            solution = neighbor_solution\n",
    "            fitness = neighbor_fitness\n",
    "\n",
    "    return solution\n",
    "\n",
    "def generate_neighbor(solution, bin_width, bin_height):\n",
    "    # Select a random item to move\n",
    "    item_index = random.randint(0, len(solution) - 1)\n",
    "\n",
    "    # Generate a new location for the item\n",
    "    new_x = random.randint(0, bin_width - 1)\n",
    "    new_y = random.randint(0, bin_height - 1)\n",
    "\n",
    "    # Create a new solution with the item moved to the new location\n",
    "    neighbor_solution = solution[:item_index] + [(new_x, new_y)] + solution[item_index + 1:]\n",
    "\n",
    "    return neighbor_solution\n",
    "\n",
    "def evaluate_solution(bin_width, bin_height, items, solution):\n",
    "    # Calculate the number of bins used\n",
    "    bins_used = 0\n",
    "    for item_index, (item_width, item_height) in enumerate(items):\n",
    "        x, y = solution[item_index]\n",
    "        if x + item_width > bin_width or y + item_height > bin_height:\n",
    "            bins_used += 1\n",
    "\n",
    "    # Calculate the waste in each bin\n",
    "    waste = 0\n",
    "    for item_index, (item_width, item_height) in enumerate(items):\n",
    "        x, y = solution[item_index]\n",
    "        waste += (bin_width - x - item_width) * (bin_height - y - item_height)\n",
    "\n",
    "    # Return the fitness value (number of bins used + waste)\n",
    "    return bins_used + waste / (bin_width * bin_height)\n",
    "\n",
    "# def visualize_solution(bin_width, bin_height, items, solution):\n",
    "#     fig, ax = plt.subplots()\n",
    "#     ax.set_xlim(0, bin_width)\n",
    "#     ax.set_ylim(0, bin_height)\n",
    "\n",
    "#     for item_index, (item_width, item_height) in enumerate(items):\n",
    "#         x, y = solution[item_index]\n",
    "#         ax.add_patch(plt.Rectangle((x, y), item_width, item_height, fill=False))\n",
    "\n",
    "#     plt.show()\n"
   ]
  },
  {
   "cell_type": "code",
   "execution_count": 24,
   "metadata": {},
   "outputs": [
    {
     "name": "stdout",
     "output_type": "stream",
     "text": [
      "Item 0: (5, 1)\n",
      "Item 1: (0, 8)\n",
      "Item 2: (0, 2)\n",
      "Item 3: (4, 1)\n",
      "Item 4: (1, 7)\n",
      "Item 5: (0, 0)\n",
      "Item 6: (9, 0)\n",
      "Item 7: (7, 1)\n",
      "Item 8: (4, 0)\n",
      "Item 9: (8, 5)\n",
      "Item 10: (4, 5)\n",
      "Item 11: (1, 8)\n",
      "Item 12: (2, 1)\n",
      "Item 13: (0, 8)\n",
      "Item 14: (6, 6)\n",
      "Item 15: (0, 0)\n",
      "Item 16: (3, 3)\n",
      "Item 17: (2, 0)\n"
     ]
    }
   ],
   "source": [
    "# Load the dataset\n",
    "bin_width, bin_height, items = read_dataset('instance2dBIN.txt')\n",
    "\n",
    "# Run the local search algorithm\n",
    "solution = local_search(bin_width, bin_height, items)\n",
    "\n",
    "# Print the solution\n",
    "for item_index, (item_width, item_height) in enumerate(items):\n",
    "    x, y = solution[item_index]\n",
    "    print(f'Item {item_index}: ({x}, {y})')"
   ]
  },
  {
   "cell_type": "code",
   "execution_count": 25,
   "metadata": {},
   "outputs": [],
   "source": [
    "# # Run the local search algorithm\n",
    "# solution = local_search(bin_width, bin_height, items)\n",
    "\n",
    "# # Visualize the solution\n",
    "# visualize_solution(bin_width, bin_height, items, solution)"
   ]
  },
  {
   "cell_type": "markdown",
   "metadata": {},
   "source": [
    "### Shaking/Diversification Procedure"
   ]
  },
  {
   "cell_type": "code",
   "execution_count": 26,
   "metadata": {},
   "outputs": [],
   "source": [
    "def shake_solution(solution, max_shakes=10):\n",
    "    for _ in range(max_shakes):\n",
    "        # Select a random item to move\n",
    "        item_index = random.randint(0, len(solution) - 1)\n",
    "\n",
    "        # Generate a new location for the item\n",
    "        new_x = random.randint(0, bin_width - 1)\n",
    "        new_y = random.randint(0, bin_height - 1)\n",
    "\n",
    "        # Create a new solution with the item moved to the new location\n",
    "        solution[item_index] = (new_x, new_y)\n",
    "\n",
    "    return solution\n",
    "\n",
    "def diversify_solution(solution, max_diversifications=10):\n",
    "    for _ in range(max_diversifications):\n",
    "        # Select a random item to swap with another item\n",
    "        item_index1 = random.randint(0, len(solution) - 1)\n",
    "        item_index2 = random.randint(0, len(solution) - 1)\n",
    "\n",
    "        # Swap the two items\n",
    "        solution[item_index1], solution[item_index2] = solution[item_index2], solution[item_index1]\n",
    "\n",
    "    return solution"
   ]
  },
  {
   "cell_type": "code",
   "execution_count": 27,
   "metadata": {},
   "outputs": [
    {
     "name": "stdout",
     "output_type": "stream",
     "text": [
      "[(2, 1), (5, 8), (1, 2), (5, 1), (4, 1), (3, 3), (8, 1), (5, 2), (1, 8), (8, 5), (4, 6), (3, 8), (2, 0), (3, 8), (3, 2), (0, 4), (6, 3), (2, 1)]\n",
      "[(2, 1), (8, 5), (0, 4), (4, 1), (3, 3), (5, 1), (2, 0), (5, 2), (1, 8), (4, 6), (5, 8), (3, 2), (8, 1), (3, 8), (3, 8), (1, 2), (6, 3), (2, 1)]\n"
     ]
    }
   ],
   "source": [
    "# Load the dataset\n",
    "bin_width, bin_height, items = read_dataset('instance2dBIN.txt')\n",
    "\n",
    "# Run the local search algorithm\n",
    "solution = local_search(bin_width, bin_height, items)\n",
    "\n",
    "# Shake the solution\n",
    "print(shake_solution(solution))\n",
    "\n",
    "# Diversify the solution\n",
    "print(diversify_solution(solution))"
   ]
  },
  {
   "cell_type": "markdown",
   "metadata": {},
   "source": [
    "### Basic Variable Neighborhood Search"
   ]
  },
  {
   "cell_type": "code",
   "execution_count": 28,
   "metadata": {},
   "outputs": [
    {
     "name": "stdout",
     "output_type": "stream",
     "text": [
      "[(8, 4), (7, 8), (5, 4), (4, 8), (0, 3), (0, 5), (5, 7), (0, 8), (1, 3), (6, 0), (5, 9), (3, 0), (4, 8), (6, 3), (3, 6), (0, 9), (2, 4), (3, 9)]\n"
     ]
    }
   ],
   "source": [
    "def vns_search(bin_width, bin_height, items, max_iterations=1000):\n",
    "    solution = local_search(bin_width, bin_height, items)\n",
    "    best_fitness = evaluate_solution(bin_width, bin_height, items, solution)\n",
    "    best_solution = solution\n",
    "\n",
    "    for _ in range(max_iterations):\n",
    "        # Shake the solution\n",
    "        solution = shake_solution(solution)\n",
    "\n",
    "        # Evaluate the solution\n",
    "        fitness = evaluate_solution(bin_width, bin_height, items, solution)\n",
    "\n",
    "        # Check if the solution is better than the current best\n",
    "        if fitness < best_fitness:\n",
    "            best_fitness = fitness\n",
    "            best_solution = solution\n",
    "\n",
    "        # Diversify the solution\n",
    "        solution = diversify_solution(solution)\n",
    "\n",
    "    return best_solution\n",
    "\n",
    "# Load the dataset\n",
    "bin_width, bin_height, items = read_dataset('instance2dBIN.txt')\n",
    "\n",
    "# Run the VNS algorithm\n",
    "best_solution = vns_search(bin_width, bin_height, items)\n",
    "\n",
    "print(best_solution)"
   ]
  },
  {
   "cell_type": "code",
   "execution_count": 29,
   "metadata": {},
   "outputs": [],
   "source": [
    "# Evaluate the solution\n",
    "def evaluate_solution(bin_width, bin_height, items, solution):\n",
    "    bins_used = 0\n",
    "    for item_index, (item_width, item_height) in enumerate(items):\n",
    "        x, y = solution[item_index]\n",
    "        if x + item_width > bin_width or y + item_height > bin_height:\n",
    "            bins_used += 1\n",
    "    waste = 0\n",
    "    for item_index, (item_width, item_height) in enumerate(items):\n",
    "        x, y = solution[item_index]\n",
    "        waste += (bin_width - x - item_width) * (bin_height - y - item_height)\n",
    "    return bins_used + waste / (bin_width * bin_height)"
   ]
  },
  {
   "cell_type": "markdown",
   "metadata": {},
   "source": [
    "### Evaluation et Inference"
   ]
  },
  {
   "cell_type": "code",
   "execution_count": 30,
   "metadata": {},
   "outputs": [
    {
     "name": "stdout",
     "output_type": "stream",
     "text": [
      "FBS Heuristic: Number of bins used = 1, Execution time = 0.0000s\n",
      "Local Search: Fitness = 0.0, Execution time = 0.0088s\n",
      "VNS: Fitness = 10.83, Execution time = 0.0590s\n"
     ]
    }
   ],
   "source": [
    "# Main function to run and evaluate all algorithms\n",
    "def main():\n",
    "    bin_width, bin_height, items = read_dataset('instance2dBIN.txt')\n",
    "    # FBS Heuristic\n",
    "    start_time = time.time()\n",
    "    num_bins, bins = fbs_heuristic(bin_width, bin_height, items)\n",
    "    end_time = time.time()\n",
    "    execution_time_fbs = end_time - start_time\n",
    "\n",
    "    # Local Search\n",
    "    start_time = time.time()\n",
    "    solution_ls = local_search(bin_width, bin_height, items)\n",
    "    fitness_ls = evaluate_solution(bin_width, bin_height, items, solution_ls)\n",
    "    end_time = time.time()\n",
    "    execution_time_ls = end_time - start_time\n",
    "\n",
    "    # VNS\n",
    "    start_time = time.time()\n",
    "    solution_vns = vns_search(bin_width, bin_height, items)\n",
    "    fitness_vns = evaluate_solution(bin_width, bin_height, items, solution_vns)\n",
    "    end_time = time.time()\n",
    "    execution_time_vns = end_time - start_time\n",
    "\n",
    "    # Printing results\n",
    "    print(f\"FBS Heuristic: Number of bins used = {num_bins}, Execution time = {execution_time_fbs:.4f}s\")\n",
    "    print(f\"Local Search: Fitness = {fitness_ls}, Execution time = {execution_time_ls:.4f}s\")\n",
    "    print(f\"VNS: Fitness = {fitness_vns}, Execution time = {execution_time_vns:.4f}s\")\n",
    "\n",
    "if __name__ == \"__main__\":\n",
    "    main()"
   ]
  },
  {
   "cell_type": "markdown",
   "metadata": {},
   "source": [
    "# Analyse des Algorithmes de Bin Packing\n",
    "\n",
    "## Introduction\n",
    "\n",
    "Le problème de bin packing consiste à placer un ensemble d'objets de différentes tailles dans un nombre minimum de conteneurs (bins) de taille fixe. Les algorithmes heuristiques et de recherche sont couramment utilisés pour résoudre ce problème. Dans cette analyse, nous évaluons trois algorithmes : l'Heuristique FBS, la Recherche Locale, et la Recherche à Voisinage Variable (VNS).\n",
    "\n",
    "## Algorithmes\n",
    "\n",
    "### Heuristique FBS (Finite Best Strip)\n",
    "\n",
    "L'heuristique FBS est un algorithme qui tente de minimiser le nombre de conteneurs en deux phases :\n",
    "1. **Phase 1 : Emballage des objets en bandes de hauteur infinie**\n",
    "    - Les objets sont triés par hauteur décroissante.\n",
    "    - Chaque objet est placé sur l'étagère (shelf) où il reste le moins de largeur, sinon une nouvelle étagère est créée.\n",
    "2. **Phase 2 : Emballage des étagères dans des conteneurs de taille finie**\n",
    "    - Les étagères sont placées dans des conteneurs en essayant de minimiser l'espace inutilisé.\n",
    "\n",
    "### Recherche Locale\n",
    "\n",
    "La recherche locale est une méthode d'optimisation itérative qui cherche à améliorer une solution initiale par des modifications locales :\n",
    "- **Initialisation** : Une solution initiale est générée en plaçant les objets aléatoirement dans les conteneurs.\n",
    "- **Évaluation** : La solution est évaluée en termes de fitness, qui combine le nombre de conteneurs utilisés et l'espace gaspillé.\n",
    "- **Recherche** : À chaque itération, une solution voisine est générée et évaluée. Si elle est meilleure, elle remplace la solution courante.\n",
    "\n",
    "### Recherche à Voisinage Variable (VNS)\n",
    "\n",
    "La recherche à voisinage variable combine des techniques de diversification et d'intensification :\n",
    "- **Initialisation** : Utilise une solution de la recherche locale.\n",
    "- **Shaking** : Perturbe la solution en déplaçant aléatoirement des objets pour explorer de nouvelles configurations.\n",
    "- **Recherche Locale** : Applique la recherche locale à la solution perturbée.\n",
    "- **Diversification** : Échange aléatoirement des objets entre différentes positions pour éviter les minima locaux.\n",
    "\n",
    "## Données Utilisées\n",
    "\n",
    "Les données suivantes ont été utilisées pour les tests :\n",
    "\n",
    "```plaintext\n",
    "W: 10\n",
    "H: 10\n",
    "\n",
    "w: 5, h: 9\n",
    "w: 4, h: 2\n",
    "w: 10, h: 6\n",
    "w: 5, h: 7\n",
    "w: 6, h: 3\n",
    "w: 10, h: 7\n",
    "w: 1, h: 5\n",
    "w: 3, h: 5\n",
    "w: 6, h: 9\n",
    "w: 2, h: 4\n",
    "w: 6, h: 7\n",
    "w: 7, h: 2\n",
    "w: 8, h: 3\n",
    "w: 4, h: 10\n",
    "w: 4, h: 5\n",
    "w: 10, h: 3\n",
    "w: 7, h: 8\n",
    "w: 8, h: 7\n",
    "```\n",
    "\n",
    "## Résultats des Algorithmes\n",
    "\n",
    "Les résultats obtenus sont les suivants :\n",
    "\n",
    "- **Heuristique FBS** :\n",
    "  - Nombre de conteneurs utilisés = 1\n",
    "  - Temps d'exécution = 0.0000s\n",
    "\n",
    "- **Recherche Locale** :\n",
    "  - Fitness = 0.0\n",
    "  - Temps d'exécution = 0.0088s\n",
    "\n",
    "- **VNS** :\n",
    "  - Fitness = 10.83\n",
    "  - Temps d'exécution = 0.0590s\n",
    "\n",
    "## Analyse des Résultats\n",
    "\n",
    "### Heuristique FBS\n",
    "\n",
    "L'heuristique FBS a été très efficace, utilisant un seul conteneur avec un temps d'exécution extrêmement rapide (0.0000s). Cela montre que l'algorithme est capable de trouver une solution optimale de manière très efficace pour les données fournies. Son approche en deux phases permet de minimiser le nombre de conteneurs tout en restant rapide.\n",
    "\n",
    "### Recherche Locale\n",
    "\n",
    "La recherche locale a également donné d'excellents résultats avec une valeur de fitness de 0.0, indiquant une optimisation complète de l'espace. Cependant, elle a pris plus de temps (0.0088s) par rapport à l'heuristique FBS. Cela est dû au fait que la recherche locale itère plusieurs fois pour améliorer la solution, ce qui prend plus de temps mais permet d'atteindre une solution très optimisée.\n",
    "\n",
    "### VNS (Variable Neighborhood Search)\n",
    "\n",
    "La VNS a montré une valeur de fitness de 10.83, suggérant qu'il y avait encore de l'espace gaspillé. Son temps d'exécution de 0.0590s est le plus long parmi les trois algorithmes testés. La VNS est une méthode puissante dans des contextes plus variés et complexes car elle combine diversification et intensification. Cependant, pour ce cas particulier de bin packing, elle s'est révélée moins efficace en termes de temps d'exécution et d'utilisation de l'espace.\n",
    "\n",
    "## Conclusion\n",
    "\n",
    "En résumé, l'Heuristique FBS s'avère être la plus performante en termes d'efficacité et de rapidité pour ce problème spécifique de bin packing. La recherche locale, bien qu'un peu plus lente, offre une excellente optimisation de l'espace. La VNS, bien que polyvalente et potentiellement plus robuste dans d'autres contextes, est moins optimale pour ce cas particulier en raison de son temps d'exécution plus long et de l'optimisation de l'espace moins efficace.\n",
    "\n",
    "### Recommandations\n",
    "\n",
    "- **Heuristique FBS** : À utiliser lorsque la rapidité est cruciale et que les données sont similaires à celles fournies.\n",
    "- **Recherche Locale** : À utiliser lorsque l'optimisation de l'espace est une priorité, même au coût d'un temps de calcul légèrement plus élevé.\n",
    "- **VNS** : À considérer pour des problèmes plus complexes où la robustesse et la flexibilité sont nécessaires, malgré un compromis sur le temps d'exécution et l'efficacité."
   ]
  },
  {
   "cell_type": "markdown",
   "metadata": {},
   "source": []
  }
 ],
 "metadata": {
  "kernelspec": {
   "display_name": "Python 3",
   "language": "python",
   "name": "python3"
  },
  "language_info": {
   "codemirror_mode": {
    "name": "ipython",
    "version": 3
   },
   "file_extension": ".py",
   "mimetype": "text/x-python",
   "name": "python",
   "nbconvert_exporter": "python",
   "pygments_lexer": "ipython3",
   "version": "3.12.2"
  }
 },
 "nbformat": 4,
 "nbformat_minor": 2
}
