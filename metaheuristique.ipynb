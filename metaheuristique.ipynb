{
 "cells": [
  {
   "cell_type": "markdown",
   "metadata": {},
   "source": [
    "### Par: HOUSNI Kamar\n",
    "\n",
    "## Projet : Metaheuristic"
   ]
  },
  {
   "cell_type": "markdown",
   "metadata": {},
   "source": [
    "### Constructive heuristic- Finite Best Strip"
   ]
  },
  {
   "cell_type": "markdown",
   "metadata": {},
   "source": [
    "* We will start by reading our data;\n",
    "    * we extract the bin and item dimensions in order to perform our heuristic algorithm on the data."
   ]
  },
  {
   "cell_type": "code",
   "execution_count": 8,
   "metadata": {},
   "outputs": [],
   "source": [
    "import matplotlib.pyplot as plt\n",
    "import random"
   ]
  },
  {
   "cell_type": "code",
   "execution_count": 2,
   "metadata": {},
   "outputs": [],
   "source": [
    "def read_dataset(filename):\n",
    "    with open(filename, 'r') as file:\n",
    "        lines = file.readlines()\n",
    "\n",
    "    # Extract bin dimensions\n",
    "    bin_width = None\n",
    "    bin_height = None\n",
    "    items = []\n",
    "    for line in lines:\n",
    "        if line.startswith('W:'):\n",
    "            bin_width = int(line.split(':')[1].strip())\n",
    "        elif line.startswith('H:'):\n",
    "            bin_height = int(line.split(':')[1].strip())\n",
    "        elif line.startswith('w:'):\n",
    "            item_width = int(line.split(':')[1].strip())\n",
    "            item_height = int(lines[lines.index(line) + 1].split(':')[1].strip())\n",
    "            items.append((item_width, item_height))\n",
    "\n",
    "    return bin_width, bin_height, items"
   ]
  },
  {
   "cell_type": "code",
   "execution_count": 3,
   "metadata": {},
   "outputs": [],
   "source": [
    "def fbs_heuristic(bin_width, bin_height, items):\n",
    "    # Sort items by non-increasing height\n",
    "    items.sort(key=lambda x: x[1], reverse=True)\n",
    "\n",
    "    # Phase 1: Pack items into an infinite height strip\n",
    "    strip_width = bin_width\n",
    "    shelves = []\n",
    "    for item in items:\n",
    "        shelf_height = item[1]\n",
    "        # Find the best fit shelf for the item\n",
    "        best_shelf = None\n",
    "        best_residual_width = float('inf')\n",
    "        for shelf in shelves:\n",
    "            if shelf[0] >= item[0] and shelf[1] < best_residual_width:\n",
    "                best_shelf = shelf\n",
    "                best_residual_width = shelf[1]\n",
    "        if best_shelf is None:\n",
    "            # Create a new shelf for the item\n",
    "            shelves.append((item[0], strip_width - item[0]))\n",
    "        else:\n",
    "            # Pack the item onto the best fit shelf\n",
    "            shelves.remove(best_shelf)\n",
    "            shelves.append((best_shelf[0], best_shelf[1] - item[0]))\n",
    "\n",
    "    # Phase 2: Pack shelves into finite bins\n",
    "    bins = []\n",
    "    for shelf in shelves:\n",
    "        # Find the best fit bin for the shelf\n",
    "        best_bin = None\n",
    "        best_residual_height = float('inf')\n",
    "        for bin in bins:\n",
    "            if bin[1] >= shelf[0] and bin[0] < best_residual_height:\n",
    "                best_bin = bin\n",
    "                best_residual_height = bin[0]\n",
    "        if best_bin is None:\n",
    "            # Create a new bin for the shelf\n",
    "            bins.append((bin_height - shelf[0], strip_width))\n",
    "        else:\n",
    "            # Pack the shelf into the best fit bin\n",
    "            bins.remove(best_bin)\n",
    "            bins.append((best_bin[0] - shelf[0], best_bin[1]))\n",
    "\n",
    "    return len(bins)"
   ]
  },
  {
   "cell_type": "code",
   "execution_count": 4,
   "metadata": {},
   "outputs": [
    {
     "name": "stdout",
     "output_type": "stream",
     "text": [
      "Bin dimensions: 10 x 10\n",
      "Item dimensions:\n",
      "5 x 9\n",
      "4 x 2\n",
      "10 x 6\n",
      "5 x 9\n",
      "6 x 3\n",
      "10 x 6\n",
      "1 x 5\n",
      "3 x 5\n",
      "6 x 3\n",
      "2 x 4\n",
      "6 x 3\n",
      "7 x 2\n",
      "8 x 3\n",
      "4 x 2\n",
      "4 x 2\n",
      "10 x 6\n",
      "7 x 2\n",
      "8 x 3\n",
      "Number of bins used: 1\n"
     ]
    }
   ],
   "source": [
    "bin_width, bin_height, items = read_dataset('instance2dBIN.txt')\n",
    "print(f\"Bin dimensions: {bin_width} x {bin_height}\")\n",
    "print(\"Item dimensions:\")\n",
    "for item in items:\n",
    "    print(f\"{item[0]} x {item[1]}\")\n",
    "\n",
    "num_bins = fbs_heuristic(bin_width, bin_height, items)\n",
    "print(f\"Number of bins used: {num_bins}\")"
   ]
  },
  {
   "cell_type": "code",
   "execution_count": 5,
   "metadata": {},
   "outputs": [],
   "source": [
    "def visualize_packing(bin_width, bin_height, items, bins):\n",
    "    fig, ax = plt.subplots()\n",
    "\n",
    "    # Plot the bins\n",
    "    ax.set_xlim(0, bin_width)\n",
    "    ax.set_ylim(0, bin_height)\n",
    "    ax.set_aspect('equal')\n",
    "    ax.set_title('Bin Packing')\n",
    "    for bin in bins:\n",
    "        ax.add_patch(plt.Rectangle((0, 0), bin_width, bin[0], fill=False, edgecolor='blue'))\n",
    "\n",
    "    # Plot the packed items\n",
    "    for bin in bins:\n",
    "        x = []\n",
    "        y = []\n",
    "        for item in items:\n",
    "            if item in bin[1]:\n",
    "                x.append(item[0])\n",
    "                y.append(item[1])\n",
    "        ax.scatter(x, y, color='red')\n",
    "\n",
    "    plt.show()"
   ]
  },
  {
   "cell_type": "code",
   "execution_count": 6,
   "metadata": {},
   "outputs": [
    {
     "data": {
      "image/png": "[encoded data removed]",
      "text/plain": [
       "<Figure size 640x480 with 1 Axes>"
      ]
     },
     "metadata": {},
     "output_type": "display_data"
    }
   ],
   "source": [
    "bin_width, bin_height, items = read_dataset('instance2dBIN.txt')\n",
    "num_bins = fbs_heuristic(bin_width, bin_height, items)\n",
    "bins = [(bin_height, items[i:i+num_bins]) for i in range(0, len(items), num_bins)]\n",
    "visualize_packing(bin_width, bin_height, items, bins)"
   ]
  },
  {
   "cell_type": "markdown",
   "metadata": {},
   "source": [
    "the visualize_packing function creates a visualization of the packing solution. It plots the bins as blue rectangles and the packed items as red dots. The read_dataset and fbs_heuristic functions are used to obtain the bin dimensions, items, and the number of bins used."
   ]
  },
  {
   "cell_type": "markdown",
   "metadata": {},
   "source": [
    "### Recherche locale "
   ]
  },
  {
   "cell_type": "code",
   "execution_count": 12,
   "metadata": {},
   "outputs": [],
   "source": [
    "def local_search(bin_width, bin_height, items, max_iterations=1000):\n",
    "    # Initialize the solution with a random placement of items\n",
    "    solution = [(random.randint(0, bin_width - 1), random.randint(0, bin_height - 1)) for _ in range(len(items))]\n",
    "\n",
    "    # Evaluate the initial solution\n",
    "    fitness = evaluate_solution(bin_width, bin_height, items, solution)\n",
    "\n",
    "    # Perform local search\n",
    "    for _ in range(max_iterations):\n",
    "        # Generate a neighbor solution by moving one item to a new location\n",
    "        neighbor_solution = generate_neighbor(solution, bin_width, bin_height)\n",
    "\n",
    "        # Evaluate the neighbor solution\n",
    "        neighbor_fitness = evaluate_solution(bin_width, bin_height, items, neighbor_solution)\n",
    "\n",
    "        # If the neighbor solution is better, accept it\n",
    "        if neighbor_fitness < fitness:\n",
    "            solution = neighbor_solution\n",
    "            fitness = neighbor_fitness\n",
    "\n",
    "    return solution\n",
    "\n",
    "def generate_neighbor(solution, bin_width, bin_height):\n",
    "    # Select a random item to move\n",
    "    item_index = random.randint(0, len(solution) - 1)\n",
    "\n",
    "    # Generate a new location for the item\n",
    "    new_x = random.randint(0, bin_width - 1)\n",
    "    new_y = random.randint(0, bin_height - 1)\n",
    "\n",
    "    # Create a new solution with the item moved to the new location\n",
    "    neighbor_solution = solution[:item_index] + [(new_x, new_y)] + solution[item_index + 1:]\n",
    "\n",
    "    return neighbor_solution\n",
    "\n",
    "def evaluate_solution(bin_width, bin_height, items, solution):\n",
    "    # Calculate the number of bins used\n",
    "    bins_used = 0\n",
    "    for item_index, (item_width, item_height) in enumerate(items):\n",
    "        x, y = solution[item_index]\n",
    "        if x + item_width > bin_width or y + item_height > bin_height:\n",
    "            bins_used += 1\n",
    "\n",
    "    # Calculate the waste in each bin\n",
    "    waste = 0\n",
    "    for item_index, (item_width, item_height) in enumerate(items):\n",
    "        x, y = solution[item_index]\n",
    "        waste += (bin_width - x - item_width) * (bin_height - y - item_height)\n",
    "\n",
    "    # Return the fitness value (number of bins used + waste)\n",
    "    return bins_used + waste / (bin_width * bin_height)\n",
    "\n",
    "def visualize_solution(bin_width, bin_height, items, solution):\n",
    "    fig, ax = plt.subplots()\n",
    "    ax.set_xlim(0, bin_width)\n",
    "    ax.set_ylim(0, bin_height)\n",
    "\n",
    "    ax.set_xlabel('Width')\n",
    "    ax.set_ylabel('Height')\n",
    "    ax.set_title('2D Bin Packing Solution')\n",
    "\n",
    "    for item_index, (item_width, item_height) in enumerate(items):\n",
    "        x, y = solution[item_index]\n",
    "        ax.add_patch(plt.Rectangle((x, y), item_width, item_height, fill=False, label=f'Item {item_index}'))\n",
    "\n",
    "    ax.legend()\n",
    "    plt.show()\n"
   ]
  },
  {
   "cell_type": "code",
   "execution_count": 13,
   "metadata": {},
   "outputs": [
    {
     "name": "stdout",
     "output_type": "stream",
     "text": [
      "Item 0: (3, 1)\n",
      "Item 1: (6, 5)\n",
      "Item 2: (0, 2)\n",
      "Item 3: (1, 1)\n",
      "Item 4: (1, 7)\n",
      "Item 5: (0, 2)\n",
      "Item 6: (9, 3)\n",
      "Item 7: (5, 5)\n",
      "Item 8: (4, 7)\n",
      "Item 9: (8, 2)\n",
      "Item 10: (0, 7)\n",
      "Item 11: (3, 0)\n",
      "Item 12: (2, 6)\n",
      "Item 13: (3, 8)\n",
      "Item 14: (2, 8)\n",
      "Item 15: (0, 3)\n",
      "Item 16: (0, 8)\n",
      "Item 17: (0, 7)\n"
     ]
    }
   ],
   "source": [
    "# Load the dataset\n",
    "bin_width, bin_height, items = read_dataset('instance2dBIN.txt')\n",
    "\n",
    "# Run the local search algorithm\n",
    "solution = local_search(bin_width, bin_height, items)\n",
    "\n",
    "# Print the solution\n",
    "for item_index, (item_width, item_height) in enumerate(items):\n",
    "    x, y = solution[item_index]\n",
    "    print(f'Item {item_index}: ({x}, {y})')"
   ]
  },
  {
   "cell_type": "code",
   "execution_count": 14,
   "metadata": {},
   "outputs": [
    {
     "data": {
      "image/png": "[encoded data removed]",
      "text/plain": [
       "<Figure size 640x480 with 1 Axes>"
      ]
     },
     "metadata": {},
     "output_type": "display_data"
    }
   ],
   "source": [
    "# Run the local search algorithm\n",
    "solution = local_search(bin_width, bin_height, items)\n",
    "\n",
    "# Visualize the solution\n",
    "visualize_solution(bin_width, bin_height, items, solution)"
   ]
  },
  {
   "cell_type": "code",
   "execution_count": null,
   "metadata": {},
   "outputs": [],
   "source": []
  }
 ],
 "metadata": {
  "kernelspec": {
   "display_name": "Python 3",
   "language": "python",
   "name": "python3"
  },
  "language_info": {
   "codemirror_mode": {
    "name": "ipython",
    "version": 3
   },
   "file_extension": ".py",
   "mimetype": "text/x-python",
   "name": "python",
   "nbconvert_exporter": "python",
   "pygments_lexer": "ipython3",
   "version": "3.12.2"
  }
 },
 "nbformat": 4,
 "nbformat_minor": 2
}
